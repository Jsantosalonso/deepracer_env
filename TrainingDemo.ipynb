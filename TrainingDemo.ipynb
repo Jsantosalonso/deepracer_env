{
 "cells": [
  {
   "cell_type": "code",
   "execution_count": null,
   "metadata": {
    "scrolled": true
   },
   "outputs": [],
   "source": [
    "def reward(params):\n",
    "    \"\"\"\n",
    "    Available option:\n",
    "        all_wheels_on_track (bool)\n",
    "            True if car is on track, False otherwise\n",
    "        x (float)\n",
    "            x coordinate in meters\n",
    "        y (float)\n",
    "            y coordinate in meters\n",
    "        distance_from_center (float)\n",
    "            distance from car center to track center in meters\n",
    "        is_left_of_center (bool)\n",
    "            True if car is left of track cener, False otherwise\n",
    "        heading (float)\n",
    "            range of [0,360), this is the angle in degrees between\n",
    "            the car's direction and the x-axis\n",
    "        progress (float)\n",
    "            range of [0,100], this is the percentage of the track completed\n",
    "        steps (int)\n",
    "            number of steps taken in the environment. This resets every time\n",
    "            a new episode begins, and currently the maximum episode length is 200\n",
    "        speed (float)\n",
    "            current speed of car in meters per second\n",
    "        steering_angle (float)\n",
    "            range of about [-30,30], this is the angle at which the wheels are\n",
    "            turning\n",
    "        track_width (float)\n",
    "            the track width in meters\n",
    "    \"\"\"\n",
    "    if params['all_wheels_on_track']:\n",
    "        return 1.0\n",
    "    else:\n",
    "        return 0.0"
   ]
  },
  {
   "cell_type": "code",
   "execution_count": null,
   "metadata": {},
   "outputs": [],
   "source": [
    "from train import ModelBuilder, ModelTester"
   ]
  },
  {
   "cell_type": "code",
   "execution_count": null,
   "metadata": {
    "scrolled": false
   },
   "outputs": [],
   "source": [
    "model_builder = ModelBuilder()\n",
    "\n",
    "model_builder.set_reward(reward)\n",
    "model_builder.run_builder_tool()"
   ]
  },
  {
   "cell_type": "code",
   "execution_count": null,
   "metadata": {},
   "outputs": [],
   "source": [
    "model_tester = ModelTester()\n",
    "model_tester._env.update_reward_func(reward)\n",
    "model_tester.run_test_tool()"
   ]
  }
 ],
 "metadata": {
  "kernelspec": {
   "display_name": "Python 3",
   "language": "python",
   "name": "python3"
  },
  "language_info": {
   "codemirror_mode": {
    "name": "ipython",
    "version": 3
   },
   "file_extension": ".py",
   "mimetype": "text/x-python",
   "name": "python",
   "nbconvert_exporter": "python",
   "pygments_lexer": "ipython3",
   "version": "3.6.8"
  }
 },
 "nbformat": 4,
 "nbformat_minor": 2
}
