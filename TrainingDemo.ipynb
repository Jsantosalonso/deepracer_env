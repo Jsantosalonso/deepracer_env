{
 "cells": [
  {
   "cell_type": "code",
   "execution_count": 1,
   "metadata": {
    "scrolled": true
   },
   "outputs": [],
   "source": [
    "def reward(params):\n",
    "    \"\"\"\n",
    "    Available option:\n",
    "        all_wheels_on_track (bool)\n",
    "            True if car is on track, False otherwise\n",
    "        x (float)\n",
    "            x coordinate in meters\n",
    "        y (float)\n",
    "            y coordinate in meters\n",
    "        distance_from_center (float)\n",
    "            distance from car center to track center in meters\n",
    "        is_left_of_center (bool)\n",
    "            True if car is left of track cener, False otherwise\n",
    "        heading (float)\n",
    "            range of [0,360), this is the angle in degrees between\n",
    "            the car's direction and the x-axis\n",
    "        progress (float)\n",
    "            range of [0,100], this is the percentage of the track completed\n",
    "        steps (int)\n",
    "            number of steps taken in the environment. This resets every time\n",
    "            a new episode begins, and currently the maximum episode length is 200\n",
    "        speed (float)\n",
    "            current speed of car in meters per second\n",
    "        steering_angle (float)\n",
    "            range of about [-30,30], this is the angle at which the wheels are\n",
    "            turning\n",
    "        track_width (float)\n",
    "            the track width in meters\n",
    "    \"\"\"\n",
    "    if params['all_wheels_on_track']:\n",
    "        return 1.0\n",
    "    else:\n",
    "        return 0.0"
   ]
  },
  {
   "cell_type": "code",
   "execution_count": 2,
   "metadata": {
    "scrolled": false
   },
   "outputs": [
    {
     "name": "stderr",
     "output_type": "stream",
     "text": [
      "C:\\Users\\Tyler Moncur\\Anaconda3\\lib\\site-packages\\gym\\envs\\registration.py:14: PkgResourcesDeprecationWarning: Parameters to load are deprecated.  Call .resolve and .require separately.\n",
      "  result = entry_point.load(False)\n"
     ]
    },
    {
     "name": "stdout",
     "output_type": "stream",
     "text": [
      "pygame 1.9.4\n",
      "Hello from the pygame community. https://www.pygame.org/contribute.html\n",
      "Display: random settings not implemented\n"
     ]
    },
    {
     "data": {
      "text/markdown": [
       "## Choose Model Name"
      ],
      "text/plain": [
       "<IPython.core.display.Markdown object>"
      ]
     },
     "metadata": {},
     "output_type": "display_data"
    },
    {
     "data": {
      "application/vnd.jupyter.widget-view+json": {
       "model_id": "b6d022ea3f5248a988006a62e96bbe9e",
       "version_major": 2,
       "version_minor": 0
      },
      "text/plain": [
       "interactive(children=(Text(value='', description='name'), Button(description='Run Interact', style=ButtonStyle…"
      ]
     },
     "metadata": {},
     "output_type": "display_data"
    },
    {
     "data": {
      "text/markdown": [
       "## Build Initial Model\n",
       " ### Leave empty for random initialization."
      ],
      "text/plain": [
       "<IPython.core.display.Markdown object>"
      ]
     },
     "metadata": {},
     "output_type": "display_data"
    },
    {
     "data": {
      "application/vnd.jupyter.widget-view+json": {
       "model_id": "76152682b53f4abd99fd4ad290d236bd",
       "version_major": 2,
       "version_minor": 0
      },
      "text/plain": [
       "interactive(children=(Dropdown(description='clone_from', options=('', 'aa', 'aws-deepracer'), value=''), Butto…"
      ]
     },
     "metadata": {},
     "output_type": "display_data"
    },
    {
     "data": {
      "text/markdown": [
       "## Choose Hyperparameters/Train Model"
      ],
      "text/plain": [
       "<IPython.core.display.Markdown object>"
      ]
     },
     "metadata": {},
     "output_type": "display_data"
    },
    {
     "data": {
      "application/vnd.jupyter.widget-view+json": {
       "model_id": "b9f4066e77194c8b9ff25a23ce7bb55a",
       "version_major": 2,
       "version_minor": 0
      },
      "text/plain": [
       "interactive(children=(IntSlider(value=1000, description='frames_per_epoch', max=4000, min=400), IntSlider(valu…"
      ]
     },
     "metadata": {},
     "output_type": "display_data"
    }
   ],
   "source": [
    "from train import ModelBuilder\n",
    "\n",
    "model_builder = ModelBuilder()\n",
    "\n",
    "model_builder.set_reward(reward)\n",
    "model_builder.run_builder_tool()"
   ]
  }
 ],
 "metadata": {
  "kernelspec": {
   "display_name": "Python 3",
   "language": "python",
   "name": "python3"
  },
  "language_info": {
   "codemirror_mode": {
    "name": "ipython",
    "version": 3
   },
   "file_extension": ".py",
   "mimetype": "text/x-python",
   "name": "python",
   "nbconvert_exporter": "python",
   "pygments_lexer": "ipython3",
   "version": "3.6.8"
  }
 },
 "nbformat": 4,
 "nbformat_minor": 2
}
